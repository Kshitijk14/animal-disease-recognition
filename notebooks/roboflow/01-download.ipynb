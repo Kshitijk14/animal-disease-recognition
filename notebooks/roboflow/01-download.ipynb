{
 "cells": [
  {
   "cell_type": "code",
   "execution_count": null,
   "metadata": {},
   "outputs": [],
   "source": [
    "# pip install roboflow\n",
    "\n",
    "from roboflow import Roboflow\n",
    "rf = Roboflow(api_key=\"K3AjA2iocN\")\n",
    "project = rf.workspace(\"sliit-kuemd\").project(\"cattle-diseases\")\n",
    "version = project.version(2)\n",
    "dataset = version.download(\"multiclass\")"
   ]
  },
  {
   "cell_type": "markdown",
   "metadata": {},
   "source": [
    "https://universe.roboflow.com/ds/kjwCE5sEHF?key=K3AjA2iocN"
   ]
  },
  {
   "cell_type": "markdown",
   "metadata": {},
   "source": [
    " Next step: Train a model!\n",
    "\n",
    "The Roboflow Model Library contains pre-configured model architectures for easily training computer vision models. Just add the link to your Roboflow dataset and you're ready to go!\n",
    "\n",
    "PyTorch Classification\n",
    "YOLOv5 Classification\n",
    "An easy to use PyTorch model that achieves state of the art (or near state of the art) results for classification. Classification assigns a given image to an array of possible classes and can be binary or multi-class.\n",
    "\n",
    " Tutorial: https://blog.roboflow.com/train-yolov5-classification-custom-data/\n",
    " Repo: https://github.com/ultralytics/yolov5\n",
    " Colab Notebook (Free GPU): https://colab.research.google.com/drive/1KZiKUAjtARHAfZCXbJRv14-pOnIsBLPV?usp=sharing\n",
    "PyTorch Classification\n",
    "Vision Transformer\n",
    "The Vision Transformer leverages powerful natural language processing embeddings (BERT) and applies them to images\n",
    "\n",
    " Tutorial: https://blog.roboflow.com/how-to-train-vision-transformer/\n",
    " Video: https://www.youtube.com/watch?v=8yRE2Pa-8_I\n",
    " Colab Notebook (Free GPU): https://www.youtube.com/watch?v=8yRE2Pa-8_I\n",
    "Fast.ai v2 Classification\n",
    "Resnet34\n",
    "Resnet34 for state of the art image classification implemented in FastAI v2 and PyTorch.\n",
    "\n",
    " Tutorial: https://blog.roboflow.com/how-to-train-a-custom-resnet34-model/\n",
    " Video: https://www.youtube.com/watch?v=93kXzUOiYY4\n",
    " Colab Notebook (Free GPU): https://colab.research.google.com/drive/1mVISoBYTDk3Q9D5VmviTkYD28WlFW-Jk#scrollTo=miSJjgU6PZ5Z\n",
    "PyTorch Classification\n",
    "OpenAI Clip\n",
    "CLIP (Contrastive Language-Image Pre-Training) is an impressive multimodal zero-shot image classifier that achieves impressive results in a wide range of domains with no fine-tuning. It applies the recent advancements in large-scale transformers like GPT-3 to the vision arena.\n",
    "\n",
    " Tutorial: https://colab.research.google.com/drive/1mVISoBYTDk3Q9D5VmviTkYD28WlFW-Jk#scrollTo=miSJjgU6PZ5Z\n",
    " Video: https://colab.research.google.com/drive/1mVISoBYTDk3Q9D5VmviTkYD28WlFW-Jk#scrollTo=miSJjgU6PZ5Z\n",
    " Repo: https://colab.research.google.com/drive/1mVISoBYTDk3Q9D5VmviTkYD28WlFW-Jk#scrollTo=miSJjgU6PZ5Z\n",
    " Colab Notebook (Free GPU): https://colab.research.google.com/drive/1LXla2q9MCRRI_kTjpvag2Vz-7EGLnki5\n",
    "Keras Classification\n",
    "EfficientNet\n",
    "EfficientNet is a family of state of the art classification models from GoogleAI that efficiently scale up as you increase the number of parameters in the network.\n",
    "\n",
    " Tutorial: https://blog.roboflow.com/how-to-train-efficientnet/\n",
    " Repo: https://github.com/Tony607/efficientnet_keras_transfer_learning\n",
    " Colab Notebook (Free GPU): https://colab.research.google.com/drive/1vzEDAX-3ol7gcZ7qmKuwn8zUld524sUZ#scrollTo=G7Evp4GOUt7Z\n",
    "Tensorflow 2 Classification\n",
    "MobileNetV2 Classification\n",
    "MobileNet is a GoogleAI model well-suited for on-device, real-time classification (distinct from MobileNetSSD, Single Shot Detector). This implementation leverages transfer learning from ImageNet to your dataset.\n",
    "\n",
    " Tutorial: https://colab.research.google.com/drive/1vzEDAX-3ol7gcZ7qmKuwn8zUld524sUZ#scrollTo=G7Evp4GOUt7Z\n",
    " Jupyter Notebook: https://colab.research.google.com/drive/1vzEDAX-3ol7gcZ7qmKuwn8zUld524sUZ#scrollTo=G7Evp4GOUt7Z\n",
    " Colab Notebook (Free GPU): https://colab.research.google.com/drive/1vzEDAX-3ol7gcZ7qmKuwn8zUld524sUZ#scrollTo=G7Evp4GOUt7Z\n",
    "Fast.ai v2 Classification\n",
    "ResNet-32\n",
    "A fast, simple convolutional neural network that gets the job done for many tasks, including classification here.\n",
    "\n",
    " Jupyter Notebook: https://colab.research.google.com/drive/1vzEDAX-3ol7gcZ7qmKuwn8zUld524sUZ#scrollTo=G7Evp4GOUt7Z\n",
    " Colab Notebook (Free GPU): https://colab.research.google.com/drive/1lW8RdZf-zzZBn7qo0bdUCBJj-8Sncp_z"
   ]
  }
 ],
 "metadata": {
  "language_info": {
   "name": "python"
  }
 },
 "nbformat": 4,
 "nbformat_minor": 2
}
